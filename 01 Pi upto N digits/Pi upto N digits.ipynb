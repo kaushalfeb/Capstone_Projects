{
 "cells": [
  {
   "cell_type": "markdown",
   "metadata": {},
   "source": [
    "## Find PI to the Nth Digit\n",
    "- Enter a number and have the program generate π (pi) up to that many decimal places. Keep a limit to how far the program will go."
   ]
  },
  {
   "cell_type": "code",
   "execution_count": 1,
   "metadata": {},
   "outputs": [],
   "source": [
    "from PIL import Image"
   ]
  },
  {
   "cell_type": "code",
   "execution_count": 4,
   "metadata": {},
   "outputs": [],
   "source": [
    "algo = Image.open('chudnovsky.png','r')"
   ]
  },
  {
   "cell_type": "code",
   "execution_count": 6,
   "metadata": {},
   "outputs": [
    {
     "data": {
      "image/png": "[encoded data removed]",
      "text/plain": [
       "<PIL.PngImagePlugin.PngImageFile image mode=RGBA size=389x64 at 0x213773FA088>"
      ]
     },
     "execution_count": 6,
     "metadata": {},
     "output_type": "execute_result"
    }
   ],
   "source": [
    "algo"
   ]
  },
  {
   "cell_type": "code",
   "execution_count": 44,
   "metadata": {},
   "outputs": [],
   "source": [
    "def factorial(num):\n",
    "    temp = 1\n",
    "    for x in range(1,num+1):\n",
    "        temp = x * temp\n",
    "    return temp"
   ]
  },
  {
   "cell_type": "code",
   "execution_count": 48,
   "metadata": {},
   "outputs": [
    {
     "data": {
      "text/plain": [
       "5040"
      ]
     },
     "execution_count": 48,
     "metadata": {},
     "output_type": "execute_result"
    }
   ],
   "source": [
    "factorial(7)"
   ]
  },
  {
   "cell_type": "code",
   "execution_count": 170,
   "metadata": {},
   "outputs": [
    {
     "name": "stdout",
     "output_type": "stream",
     "text": [
      "How many digits do you want?5\n",
      "3.14159\n"
     ]
    }
   ],
   "source": [
    "from decimal import Decimal,getcontext\n",
    "from math import factorial\n",
    "\n",
    "getcontext().prec = 1000\n",
    "\n",
    "def cal(n):\n",
    "    t = Decimal(0)\n",
    "    pi = Decimal(0)\n",
    "    deno = Decimal(0)\n",
    "    \n",
    "    for q in range(n):\n",
    "        t = (-1) **q * factorial(6*q) * ((545140134 * q) + (13591409))\n",
    "        deno = factorial(3*q) * (factorial(q) **3) * (640320 ** (3*q))\n",
    "        pi += Decimal(t)/Decimal(deno)\n",
    "        pi = pi * Decimal(12)/Decimal(640320 ** Decimal(1.5))\n",
    "        pi = 1/pi\n",
    "        return round(pi,n)\n",
    "    \n",
    "n = int(input(\"How many digits do you want?\"))\n",
    "    \n",
    "print(cal(n))"
   ]
  },
  {
   "cell_type": "code",
   "execution_count": null,
   "metadata": {},
   "outputs": [],
   "source": []
  }
 ],
 "metadata": {
  "kernelspec": {
   "display_name": "Python 3",
   "language": "python",
   "name": "python3"
  },
  "language_info": {
   "codemirror_mode": {
    "name": "ipython",
    "version": 3
   },
   "file_extension": ".py",
   "mimetype": "text/x-python",
   "name": "python",
   "nbconvert_exporter": "python",
   "pygments_lexer": "ipython3",
   "version": "3.7.4"
  }
 },
 "nbformat": 4,
 "nbformat_minor": 2
}
